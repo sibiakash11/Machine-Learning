{
 "cells": [
  {
   "cell_type": "code",
   "execution_count": 125,
   "metadata": {},
   "outputs": [],
   "source": [
    "import numpy as np \n",
    "from sklearn.cluster import KMeans"
   ]
  },
  {
   "cell_type": "code",
   "execution_count": 126,
   "metadata": {},
   "outputs": [
    {
     "data": {
      "text/plain": [
       "(4, 1)"
      ]
     },
     "execution_count": 126,
     "metadata": {},
     "output_type": "execute_result"
    }
   ],
   "source": [
    "X_train = np.array([[0,0],[0,1],[1,0],[1,1]])\n",
    "X_train.shape\n",
    "Y_train = np.array([[0],[1],[1],[0]])\n",
    "Y_train.shape"
   ]
  },
  {
   "cell_type": "code",
   "execution_count": 127,
   "metadata": {},
   "outputs": [],
   "source": [
    "\n",
    "def kernel_function(center, data_point,hidden_layer_size,X):\n",
    "    d = (X.max(axis=0)-X.min(axis=0)).max()  \n",
    "    sigma = d/np.sqrt(2*hidden_layer_size)\n",
    "    return np.exp(-(np.linalg.norm(center-data_point)**2)/(2*sigma**2))\n",
    "\n",
    "def calculate_interpolation_matrix(X,centers,hidden_layer_size):\n",
    "        G = np.zeros((len(X), hidden_layer_size))\n",
    "        for data_point_arg, data_point in enumerate(X):\n",
    "            for center_arg, center in enumerate(centers):\n",
    "                G[data_point_arg, center_arg] = kernel_function(center, data_point,hidden_layer_size,X)\n",
    "        print(G)\n",
    "        return G\n",
    "    \n",
    "\n",
    "def rbf_fit(X, Y,hidden_layer_size,weights):\n",
    "        centers = select_centers(X,hidden_layer_size)\n",
    "        G = calculate_interpolation_matrix(X,centers,hidden_layer_size)\n",
    "        weights = np.dot(np.linalg.pinv(G), Y)\n",
    "        #G = calculate_interpolation_matrix(X,centers)\n",
    "        predictions = np.dot(G,weights)\n",
    "        weights = np.dot(np.linalg.pinv(G),Y)\n",
    "        print(weights)\n",
    "        predictions = np.dot(G,weights)\n",
    "        return predictions\n",
    "\n",
    "\n",
    "def select_centers(X,hidden_layer_size):\n",
    "    #random_args = np.random.choice(len(X),hidden_layer_size)\n",
    "    centers = X\n",
    "    return centers\n"
   ]
  },
  {
   "cell_type": "code",
   "execution_count": 128,
   "metadata": {},
   "outputs": [
    {
     "name": "stdout",
     "output_type": "stream",
     "text": [
      "[[0. 0. 1. 1.]\n",
      " [1. 0. 1. 0.]]\n"
     ]
    }
   ],
   "source": [
    "hidden_layer_size = 4\n",
    "input_layer_size  = 1\n",
    "#weights = np.ones((hidden_layer_size,input_layer_size))\n",
    "#weights = [1,-1,-1,1]   \n",
    "w=KMeans(n_clusters=hidden_layer_size).fit(X_train)\n",
    "weights= np.transpose(w.cluster_centers_)  \n",
    "print(weights)\n"
   ]
  },
  {
   "cell_type": "code",
   "execution_count": 129,
   "metadata": {},
   "outputs": [
    {
     "name": "stdout",
     "output_type": "stream",
     "text": [
      "[[1.00000000e+00 1.83156389e-02 1.83156389e-02 3.35462628e-04]\n",
      " [1.83156389e-02 1.00000000e+00 3.35462628e-04 1.83156389e-02]\n",
      " [1.83156389e-02 3.35462628e-04 1.00000000e+00 1.83156389e-02]\n",
      " [3.35462628e-04 1.83156389e-02 1.83156389e-02 1.00000000e+00]]\n",
      "[[-0.03665587]\n",
      " [ 1.00100695]\n",
      " [ 1.00100695]\n",
      " [-0.03665587]]\n",
      "[[-1.42247325e-16]\n",
      " [ 1.00000000e+00]\n",
      " [ 1.00000000e+00]\n",
      " [-1.42247325e-16]]\n"
     ]
    }
   ],
   "source": [
    "predictions = rbf_fit(X_train,Y_train,hidden_layer_size,weights)\n",
    "print(predictions)\n"
   ]
  },
  {
   "cell_type": "code",
   "execution_count": 130,
   "metadata": {},
   "outputs": [
    {
     "name": "stdout",
     "output_type": "stream",
     "text": [
      "[[0.]\n",
      " [1.]\n",
      " [1.]\n",
      " [0.]]\n"
     ]
    }
   ],
   "source": [
    "for i,_ in enumerate(predictions):\n",
    "        #print(i)\n",
    "        if(predictions[i] > 0):\n",
    "            predictions[i] = 1\n",
    "        else:\n",
    "            predictions[i] = 0\n",
    "print(predictions)"
   ]
  },
  {
   "cell_type": "code",
   "execution_count": null,
   "metadata": {},
   "outputs": [],
   "source": []
  },
  {
   "cell_type": "code",
   "execution_count": null,
   "metadata": {},
   "outputs": [],
   "source": []
  },
  {
   "cell_type": "code",
   "execution_count": null,
   "metadata": {},
   "outputs": [],
   "source": []
  }
 ],
 "metadata": {
  "kernelspec": {
   "display_name": "Python 3",
   "language": "python",
   "name": "python3"
  },
  "language_info": {
   "codemirror_mode": {
    "name": "ipython",
    "version": 3
   },
   "file_extension": ".py",
   "mimetype": "text/x-python",
   "name": "python",
   "nbconvert_exporter": "python",
   "pygments_lexer": "ipython3",
   "version": "3.7.3"
  }
 },
 "nbformat": 4,
 "nbformat_minor": 4
}
